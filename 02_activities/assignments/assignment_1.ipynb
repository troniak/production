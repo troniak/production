{
 "cells": [
  {
   "cell_type": "markdown",
   "metadata": {},
   "source": [
    "# Working with parquet files\n",
    "\n",
    "## Objective\n",
    "\n",
    "+ In this assignment, we will use the data downloaded with the module `data_manager` to create features.\n",
    "\n",
    "(11 pts total)\n",
    "\n",
    "## Prerequisites\n",
    "\n",
    "+ This notebook assumes that price data is available to you in the environment variable `PRICE_DATA`. If you have not done so, then execute the notebook `01_materials/labs/2_data_engineering.ipynb` to create this data set.\n"
   ]
  },
  {
   "cell_type": "markdown",
   "metadata": {},
   "source": [
    "+ Load the environment variables using dotenv. (1 pt)"
   ]
  },
  {
   "cell_type": "code",
   "execution_count": 6,
   "metadata": {},
   "outputs": [
    {
     "data": {
      "text/plain": [
       "True"
      ]
     },
     "execution_count": 6,
     "metadata": {},
     "output_type": "execute_result"
    }
   ],
   "source": [
    "from dotenv import load_dotenv\n",
    "load_dotenv()"
   ]
  },
  {
   "cell_type": "code",
   "execution_count": 2,
   "metadata": {},
   "outputs": [],
   "source": [
    "import dask.dataframe as dd"
   ]
  },
  {
   "cell_type": "markdown",
   "metadata": {},
   "source": [
    "+ Load the environment variable `PRICE_DATA`.\n",
    "+ Use [glob](https://docs.python.org/3/library/glob.html) to find the path of all parquet files in the directory `PRICE_DATA`.\n",
    "\n",
    "(1pt)"
   ]
  },
  {
   "cell_type": "code",
   "execution_count": 9,
   "metadata": {},
   "outputs": [],
   "source": [
    "import os\n",
    "from glob import glob\n",
    "\n",
    "PRICE_DATA = os.getenv('PRICE_DATA')\n",
    "\n",
    "parquet_files = glob(os.path.join(PRICE_DATA, '**', '*.parquet'), recursive=True)\n"
   ]
  },
  {
   "cell_type": "markdown",
   "metadata": {},
   "source": [
    "For each ticker and using Dask, do the following:\n",
    "\n",
    "+ Add lags for variables Close and Adj_Close.\n",
    "+ Add returns based on Close:\n",
    "    \n",
    "    - `returns`: (Close / Close_lag_1) - 1\n",
    "\n",
    "+ Add the following range: \n",
    "\n",
    "    - `hi_lo_range`: this is the day's High minus Low.\n",
    "\n",
    "+ Assign the result to `dd_feat`.\n",
    "\n",
    "(4 pt)"
   ]
  },
  {
   "cell_type": "code",
   "execution_count": 18,
   "metadata": {},
   "outputs": [
    {
     "name": "stderr",
     "output_type": "stream",
     "text": [
      "/tmp/ipykernel_2573/870707631.py:2: UserWarning: `meta` is not specified, inferred from partial data. Please provide `meta` if the result is unexpected.\n",
      "  Before: .apply(func)\n",
      "  After:  .apply(func, meta={'x': 'f8', 'y': 'f8'}) for dataframe result\n",
      "  or:     .apply(func, meta=('x', 'f8'))            for series result\n",
      "  dd_shift = dd_px.groupby('Ticker', group_keys=False).apply(\n"
     ]
    }
   ],
   "source": [
    "dd_px = dd.read_parquet(parquet_files).set_index(\"Ticker\")\n",
    "dd_shift = dd_px.groupby('Ticker', group_keys=False).apply(\n",
    "    lambda x: x.assign(\n",
    "        Close_lag_1 = x['Close'].shift(1)).assign(\n",
    "            Adj_Close_lag_1 = x['Adj Close'].shift(1))\n",
    ")\n",
    "dd_feat = dd_shift.assign(\n",
    "    returns = lambda x: x['Close'] / x['Close_lag_1'] - 1\n",
    ").assign(\n",
    "    hi_lo_range = lambda x: x['High'] - x['Low']\n",
    ")"
   ]
  },
  {
   "cell_type": "markdown",
   "metadata": {},
   "source": [
    "+ Convert the Dask data frame to a pandas data frame. \n",
    "+ Add a new feature containing the moving average of `returns` using a window of 10 days. There are several ways to solve this task, a simple one uses `.rolling(10).mean()`.\n",
    "\n",
    "(3 pt)"
   ]
  },
  {
   "cell_type": "code",
   "execution_count": 22,
   "metadata": {},
   "outputs": [
    {
     "name": "stdout",
     "output_type": "stream",
     "text": [
      "Price                       Date  Adj Close      Close       High        Low  \\\n",
      "Ticker                                                                         \n",
      "DOV    2003-01-02 00:00:00+00:00  13.402376  20.418425  20.773701  19.567097   \n",
      "DOV    2003-01-03 00:00:00+00:00  13.362778  20.358093  20.472050  20.170399   \n",
      "DOV    2003-01-06 00:00:00+00:00  13.732377  20.921175  21.068649  20.344687   \n",
      "DOV    2003-01-07 00:00:00+00:00  13.587181  20.699965  20.947989  20.559195   \n",
      "DOV    2003-01-08 00:00:00+00:00  13.265972  20.210619  20.699965  20.177103   \n",
      "...                          ...        ...        ...        ...        ...   \n",
      "CTLT   2004-12-27 00:00:00+00:00        NaN        NaN        NaN        NaN   \n",
      "CTLT   2004-12-28 00:00:00+00:00        NaN        NaN        NaN        NaN   \n",
      "CTLT   2004-12-29 00:00:00+00:00        NaN        NaN        NaN        NaN   \n",
      "CTLT   2004-12-30 00:00:00+00:00        NaN        NaN        NaN        NaN   \n",
      "CTLT   2004-12-31 00:00:00+00:00        NaN        NaN        NaN        NaN   \n",
      "\n",
      "Price        Open    Volume  Year  Close_lag_1  Adj_Close_lag_1   returns  \\\n",
      "Ticker                                                                      \n",
      "DOV     19.627426  766183.0  2003          NaN              NaN       NaN   \n",
      "DOV     20.398314  624612.0  2003    20.418425        13.402376 -0.002955   \n",
      "DOV     20.344687  958028.0  2003    20.358093        13.362778  0.027659   \n",
      "DOV     20.921175  776626.0  2003    20.921175        13.732377 -0.010574   \n",
      "DOV     20.699965  659073.0  2003    20.699965        13.587181 -0.023640   \n",
      "...           ...       ...   ...          ...              ...       ...   \n",
      "CTLT          NaN       NaN  2004          NaN              NaN       NaN   \n",
      "CTLT          NaN       NaN  2004          NaN              NaN       NaN   \n",
      "CTLT          NaN       NaN  2004          NaN              NaN       NaN   \n",
      "CTLT          NaN       NaN  2004          NaN              NaN       NaN   \n",
      "CTLT          NaN       NaN  2004          NaN              NaN       NaN   \n",
      "\n",
      "Price   hi_lo_range  returns_ma  \n",
      "Ticker                           \n",
      "DOV        1.206604         NaN  \n",
      "DOV        0.301651         NaN  \n",
      "DOV        0.723963         NaN  \n",
      "DOV        0.388794         NaN  \n",
      "DOV        0.522861         NaN  \n",
      "...             ...         ...  \n",
      "CTLT            NaN         NaN  \n",
      "CTLT            NaN         NaN  \n",
      "CTLT            NaN         NaN  \n",
      "CTLT            NaN         NaN  \n",
      "CTLT            NaN         NaN  \n",
      "\n",
      "[3174433 rows x 13 columns]\n"
     ]
    }
   ],
   "source": [
    "import pandas as pd\n",
    "df_feat = dd_feat.compute()\n",
    "df_feat['returns_ma'] = df_feat['returns'].rolling(10).mean()\n",
    "print(df_feat)\n"
   ]
  },
  {
   "cell_type": "code",
   "execution_count": 28,
   "metadata": {},
   "outputs": [
    {
     "name": "stdout",
     "output_type": "stream",
     "text": [
      "Price                       Date  Adj Close      Close       High        Low  \\\n",
      "Ticker                                                                         \n",
      "DOV    2003-01-02 00:00:00+00:00  13.402376  20.418425  20.773701  19.567097   \n",
      "DOV    2003-01-03 00:00:00+00:00  13.362778  20.358093  20.472050  20.170399   \n",
      "DOV    2003-01-06 00:00:00+00:00  13.732377  20.921175  21.068649  20.344687   \n",
      "DOV    2003-01-07 00:00:00+00:00  13.587181  20.699965  20.947989  20.559195   \n",
      "DOV    2003-01-08 00:00:00+00:00  13.265972  20.210619  20.699965  20.177103   \n",
      "...                          ...        ...        ...        ...        ...   \n",
      "DOV    2001-12-24 00:00:00+00:00  16.015343  24.795715  24.876156  24.701868   \n",
      "DOV    2001-12-26 00:00:00+00:00  15.985035  24.748793  24.869452  24.668350   \n",
      "DOV    2001-12-27 00:00:00+00:00  16.019672  24.802420  24.802420  24.688461   \n",
      "DOV    2001-12-28 00:00:00+00:00  16.036995  24.829231  24.949892  24.641539   \n",
      "DOV    2001-12-31 00:00:00+00:00  16.049986  24.849342  25.090664  24.735386   \n",
      "\n",
      "Price        Open     Volume  Year  Close_lag_1  Adj_Close_lag_1   returns  \\\n",
      "Ticker                                                                       \n",
      "DOV     19.627426   766183.0  2003          NaN              NaN       NaN   \n",
      "DOV     20.398314   624612.0  2003    20.418425        13.402376 -0.002955   \n",
      "DOV     20.344687   958028.0  2003    20.358093        13.362778  0.027659   \n",
      "DOV     20.921175   776626.0  2003    20.921175        13.732377 -0.010574   \n",
      "DOV     20.699965   659073.0  2003    20.699965        13.587181 -0.023640   \n",
      "...           ...        ...   ...          ...              ...       ...   \n",
      "DOV     24.701868   356090.0  2001    24.768902        15.998026  0.001083   \n",
      "DOV     24.835936   715462.0  2001    24.795715        16.015343 -0.001892   \n",
      "DOV     24.802420   822722.0  2001    24.748793        15.985035  0.002167   \n",
      "DOV     24.802420  1215958.0  2001    24.802420        16.019672  0.001081   \n",
      "DOV     24.835936   803926.0  2001    24.829231        16.036995  0.000810   \n",
      "\n",
      "Price   hi_lo_range  returns_ma  \n",
      "Ticker                           \n",
      "DOV        1.206604         NaN  \n",
      "DOV        0.301651         NaN  \n",
      "DOV        0.723963         NaN  \n",
      "DOV        0.388794         NaN  \n",
      "DOV        0.522861         NaN  \n",
      "...             ...         ...  \n",
      "DOV        0.174288   -0.001392  \n",
      "DOV        0.201101   -0.002434  \n",
      "DOV        0.113958   -0.001530  \n",
      "DOV        0.308353    0.000731  \n",
      "DOV        0.355278    0.001736  \n",
      "\n",
      "[500 rows x 13 columns]\n"
     ]
    }
   ],
   "source": [
    "\n",
    "print(df_feat.head(500))"
   ]
  },
  {
   "cell_type": "markdown",
   "metadata": {},
   "source": [
    "Please comment:\n",
    "\n",
    "+ Was it necessary to convert to pandas to calculate the moving average return?\n",
    "+ Would it have been better to do it in Dask? Why?\n",
    "\n",
    "(1 pt)\n",
    "\n",
    "We could set up the moving average calculation using dask. It would be better to do this in dask since it can perform the computation in a distributed manner without needing to bring the entire dataset into memory at once."
   ]
  },
  {
   "cell_type": "markdown",
   "metadata": {},
   "source": [
    "## Criteria\n",
    "\n",
    "The [rubric](./assignment_1_rubric_clean.xlsx) contains the criteria for grading."
   ]
  },
  {
   "cell_type": "markdown",
   "metadata": {},
   "source": [
    "## Submission Information\n",
    "\n",
    "🚨 **Please review our [Assignment Submission Guide](https://github.com/UofT-DSI/onboarding/blob/main/onboarding_documents/submissions.md)** 🚨 for detailed instructions on how to format, branch, and submit your work. Following these guidelines is crucial for your submissions to be evaluated correctly.\n",
    "\n",
    "### Submission Parameters:\n",
    "* Submission Due Date: `HH:MM AM/PM - DD/MM/YYYY`\n",
    "* The branch name for your repo should be: `assignment-1`\n",
    "* What to submit for this assignment:\n",
    "    * This Jupyter Notebook (assignment_1.ipynb) should be populated and should be the only change in your pull request.\n",
    "* What the pull request link should look like for this assignment: `https://github.com/<your_github_username>/production/pull/<pr_id>`\n",
    "    * Open a private window in your browser. Copy and paste the link to your pull request into the address bar. Make sure you can see your pull request properly. This helps the technical facilitator and learning support staff review your submission easily.\n",
    "\n",
    "Checklist:\n",
    "- [ ] Created a branch with the correct naming convention.\n",
    "- [ ] Ensured that the repository is public.\n",
    "- [ ] Reviewed the PR description guidelines and adhered to them.\n",
    "- [ ] Verify that the link is accessible in a private browser window.\n",
    "\n",
    "If you encounter any difficulties or have questions, please don't hesitate to reach out to our team via our Slack at `#cohort-3-help`. Our Technical Facilitators and Learning Support staff are here to help you navigate any challenges."
   ]
  }
 ],
 "metadata": {
  "kernelspec": {
   "display_name": "env",
   "language": "python",
   "name": "python3"
  },
  "language_info": {
   "codemirror_mode": {
    "name": "ipython",
    "version": 3
   },
   "file_extension": ".py",
   "mimetype": "text/x-python",
   "name": "python",
   "nbconvert_exporter": "python",
   "pygments_lexer": "ipython3",
   "version": "3.9.18"
  }
 },
 "nbformat": 4,
 "nbformat_minor": 2
}
